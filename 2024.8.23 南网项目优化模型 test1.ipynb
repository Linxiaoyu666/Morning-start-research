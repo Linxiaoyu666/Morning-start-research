{
 "cells": [
  {
   "cell_type": "code",
   "execution_count": 10,
   "id": "d215b5a5",
   "metadata": {},
   "outputs": [],
   "source": [
    "import pandas as pd\n",
    "import matplotlib.pyplot as plt\n",
    "from pyfmi import load_fmu\n",
    "import pyfmi\n",
    "import numpy as np\n",
    "import seaborn as sns\n",
    "import pandas as pd\n",
    "import matplotlib.pyplot as plt\n",
    "from pyfmi import load_fmu\n",
    "import pyfmi\n",
    "import numpy as np\n",
    "import joblib\n",
    "from tensorflow import keras\n",
    "import lightgbm as lgb\n",
    "from sklearn.model_selection import train_test_split\n",
    "import joblib\n",
    "from sklearn.metrics import mean_squared_error\n",
    "import math\n",
    "from sklearn.linear_model import LinearRegression\n",
    "from sklearn.model_selection import train_test_split, cross_val_score\n",
    "from sklearn.metrics import mean_squared_error\n",
    "from sklearn.ensemble import RandomForestRegressor\n",
    "from sklearn.preprocessing import StandardScaler"
   ]
  },
  {
   "cell_type": "code",
   "execution_count": 40,
   "id": "4375521f",
   "metadata": {},
   "outputs": [],
   "source": [
    "## 灰箱子模型\n",
    "\n",
    "## 计算COP数值\n",
    "# 讲模型此刻的Tcon, Teva,以及计算出来的，注意单位是摄氏度\n",
    "\n",
    "def Copcal(PLR,TEVA,TCON):\n",
    "    # Load the saved model\n",
    "    pre_model = keras.models.load_model(\"NanWang_COP_model.h5\")\n",
    "    # Load the scaler object from the file\n",
    "    scaler = joblib.load('NanWang_cop.pkl')\n",
    "\n",
    "    data = {\n",
    "        'Number_1': [TCON],\n",
    "        'Number_2': [TEVA],\n",
    "        'Number_3': [PLR],\n",
    "            }\n",
    "\n",
    "    new_df = pd.DataFrame(data)\n",
    "    X_other_standardized = scaler.transform(new_df)\n",
    "    prediction = pre_model.predict(X_other_standardized)\n",
    "    Cop_value = prediction[0][0]\n",
    "    \n",
    "    return Cop_value\n",
    "\n",
    "## 计算总能耗\n",
    "\n",
    "# 确定冷机的功率和额定容量，以及水泵的额定功率 额定功率97kW, 额定容量 517 kW\n",
    "\n",
    "def Energycal(M_room,Q_pre,q_pre,T_room,N_chiler,Cop_value): \n",
    "    t_pre = M_room * (T_room - 24)*1.004 /(N_chiler * 546) + 15\n",
    "    ## 备注： 15为估测的系统启动需要的延时值\n",
    "    t_m = (Q_pre - q_pre*(60 + t_pre ))/ (N_chiler * 546)\n",
    "    t_stay = t_pre - t_m\n",
    "    E_chiller = N_chiler * 97 * t_m +  q_pre/Cop_value * t_stay\n",
    "    E_pump = N_chiler * 6 * t_m + N_chiler * 6 * t_stay * (q_pre//N_chiler)**3\n",
    "    E_total = E_chiller + E_pump\n",
    "    if t_pre > 120:\n",
    "        E_total = 20000000\n",
    "    return E_total, t_pre\n",
    "\n",
    "\n",
    "## 冷机台数参数寻优\n",
    "## 该项目中目前估算出的M_room值大约为：4188\n",
    "def Optichi(M_room,Q_pre, q_pre, T_room, TEVA,TCON):\n",
    "    min_E_total = float('inf')  # Initialize min_E_total to positive infinity\n",
    "    best_N_chiller = None\n",
    "    \n",
    "\n",
    "    for N_chiller in np.arange(1, 3, 1):\n",
    "        PLR = q_pre/N_chiller/3517\n",
    "        if PLR > 1.2:\n",
    "            PLR = 1.2\n",
    "        elif PLR < 0.2:\n",
    "            PLR = 0.2\n",
    "        Cop_value = Copcal(PLR,TEVA,TCON)\n",
    "        \n",
    "        E_total, t_pre = Energycal(M_room,Q_pre, q_pre, T_room, N_chiller, Cop_value)\n",
    "        \n",
    "        # Check if current E_total is less than the minimum found so far\n",
    "        if E_total < min_E_total:\n",
    "            min_E_total = E_total\n",
    "            best_N_chiller = N_chiller\n",
    "            best_t_m = t_pre\n",
    "\n",
    "    return best_N_chiller, best_t_m"
   ]
  },
  {
   "cell_type": "code",
   "execution_count": null,
   "id": "267b1b4e",
   "metadata": {},
   "outputs": [],
   "source": [
    "#  请先构建预测模型：\n",
    "# 参考： 2024.8.21 南网项目预测模型搭建"
   ]
  },
  {
   "cell_type": "code",
   "execution_count": 14,
   "id": "bb2a6551",
   "metadata": {},
   "outputs": [],
   "source": [
    "## 预测模型\n",
    "\n",
    "def predictcool(average_Tdb,week_number,history1,history2,history3):\n",
    "    # Load the model for prediction\n",
    "    clf = lgb.Booster(model_file='simulation_nanwang_total.txt')\n",
    "    scaler = joblib.load('scaler_nanwang_total.pkl')\n",
    "    # build the new dataframe\n",
    "    data = {\n",
    "        'Number_1': [average_Tdb],\n",
    "        'Number_2': [week_number],\n",
    "        'Number_3': [history1],\n",
    "        'Number_4': [history2],\n",
    "        'Number_5': [history3]\n",
    "    }\n",
    "\n",
    "    new_df = pd.DataFrame(data)\n",
    "    # standardize the new dataframe\n",
    "    X_predcit = scaler.transform(new_df)\n",
    "    prediction = clf.predict(X_predcit)\n",
    "    value = prediction[0]\n",
    "    return value\n",
    "\n",
    "def predictsigle(average_Tdb,week_number,history1,history2,history3):\n",
    "    # Load the model for prediction\n",
    "    clf = lgb.Booster(model_file='simulation_nanwang_sigle.txt')\n",
    "    scaler = joblib.load('scaler_nanwang_sigle.pkl')\n",
    "    # build the new dataframe\n",
    "    data = {\n",
    "        'Number_1': [average_Tdb],\n",
    "        'Number_2': [week_number],\n",
    "        'Number_3': [history1],\n",
    "        'Number_4': [history2],\n",
    "        'Number_5': [history3]\n",
    "    }\n",
    "\n",
    "    new_df = pd.DataFrame(data)\n",
    "    # standardize the new dataframe\n",
    "    X_predcit = scaler.transform(new_df)\n",
    "    prediction = clf.predict(X_predcit)\n",
    "    value = prediction[0]\n",
    "    return value"
   ]
  },
  {
   "cell_type": "code",
   "execution_count": 41,
   "id": "9df5a979",
   "metadata": {},
   "outputs": [
    {
     "data": {
      "text/plain": [
       "(1, 29.63192087912087)"
      ]
     },
     "execution_count": 41,
     "metadata": {},
     "output_type": "execute_result"
    }
   ],
   "source": [
    "## 优化模型测试\n",
    "Optichi(4188,68384, 360.219122, 25.9, 18.95,34.61)"
   ]
  },
  {
   "cell_type": "markdown",
   "id": "4fdbb498",
   "metadata": {},
   "source": [
    "周三模型预测以及优化结果分析"
   ]
  },
  {
   "cell_type": "code",
   "execution_count": 18,
   "id": "3d1f776f",
   "metadata": {},
   "outputs": [
    {
     "data": {
      "text/plain": [
       "70894.93325596255"
      ]
     },
     "execution_count": 18,
     "metadata": {},
     "output_type": "execute_result"
    }
   ],
   "source": [
    "predictcool(27 ,4,78796.62943,87001.792793,81403)"
   ]
  },
  {
   "cell_type": "code",
   "execution_count": 25,
   "id": "0b1a61bf",
   "metadata": {},
   "outputs": [
    {
     "data": {
      "text/plain": [
       "334.09493551039225"
      ]
     },
     "execution_count": 25,
     "metadata": {},
     "output_type": "execute_result"
    }
   ],
   "source": [
    "predictsigle(26 ,4,423 ,416,413)"
   ]
  },
  {
   "cell_type": "code",
   "execution_count": null,
   "id": "2b6bc1a9",
   "metadata": {},
   "outputs": [],
   "source": []
  },
  {
   "cell_type": "code",
   "execution_count": 31,
   "id": "1664660c",
   "metadata": {},
   "outputs": [
    {
     "data": {
      "text/plain": [
       "(1, 22.70101098901099)"
      ]
     },
     "execution_count": 31,
     "metadata": {},
     "output_type": "execute_result"
    }
   ],
   "source": [
    "## 优化模型测试\n",
    "Optichi(4188/2,70894.93325596255, 334.09493551039225, 27, 11,30)"
   ]
  },
  {
   "cell_type": "code",
   "execution_count": null,
   "id": "a5aa186a",
   "metadata": {},
   "outputs": [],
   "source": [
    "2024-08-27\t87001.792793\t275.855000\t5.256493\n",
    "2024-08-28\t81298.577104\t219.981667\t6.159496\n",
    "2024-08-29\t78796.629439\t247.928333\t5.297003"
   ]
  },
  {
   "cell_type": "code",
   "execution_count": null,
   "id": "9c77df4b",
   "metadata": {},
   "outputs": [],
   "source": [
    "1292    413.275940\n",
    "1293    416.376730\n",
    "1294    423.498600"
   ]
  },
  {
   "cell_type": "code",
   "execution_count": 3,
   "id": "45eabc71",
   "metadata": {},
   "outputs": [
    {
     "data": {
      "text/plain": [
       "31898"
      ]
     },
     "execution_count": 3,
     "metadata": {},
     "output_type": "execute_result"
    }
   ],
   "source": [
    "102792 - 70894"
   ]
  },
  {
   "cell_type": "code",
   "execution_count": 4,
   "id": "71012066",
   "metadata": {},
   "outputs": [
    {
     "data": {
      "text/plain": [
       "0.44993934606595765"
      ]
     },
     "execution_count": 4,
     "metadata": {},
     "output_type": "execute_result"
    }
   ],
   "source": [
    "31898/70894"
   ]
  },
  {
   "cell_type": "code",
   "execution_count": 8,
   "id": "e8937082",
   "metadata": {},
   "outputs": [
    {
     "data": {
      "text/plain": [
       "0.11377245508982035"
      ]
     },
     "execution_count": 8,
     "metadata": {},
     "output_type": "execute_result"
    }
   ],
   "source": [
    "38/334"
   ]
  },
  {
   "cell_type": "code",
   "execution_count": 21,
   "id": "d801d519",
   "metadata": {},
   "outputs": [
    {
     "data": {
      "text/plain": [
       "(1, 38.103032967032966)"
      ]
     },
     "execution_count": 21,
     "metadata": {},
     "output_type": "execute_result"
    }
   ],
   "source": [
    "## 优化模型测试\n",
    "Optichi(4188/2,70894, 334.09, 27, 11,30)"
   ]
  },
  {
   "cell_type": "code",
   "execution_count": 23,
   "id": "daceb641",
   "metadata": {},
   "outputs": [
    {
     "data": {
      "text/plain": [
       "(1, 38.103032967032966)"
      ]
     },
     "execution_count": 23,
     "metadata": {},
     "output_type": "execute_result"
    }
   ],
   "source": [
    "## 优化模型测试\n",
    "Optichi(4188,72796.62, 439.37, 27, 11,30)"
   ]
  },
  {
   "cell_type": "code",
   "execution_count": null,
   "id": "ab4eedb5",
   "metadata": {},
   "outputs": [],
   "source": []
  }
 ],
 "metadata": {
  "kernelspec": {
   "display_name": "Python 3",
   "language": "python",
   "name": "python3"
  },
  "language_info": {
   "codemirror_mode": {
    "name": "ipython",
    "version": 3
   },
   "file_extension": ".py",
   "mimetype": "text/x-python",
   "name": "python",
   "nbconvert_exporter": "python",
   "pygments_lexer": "ipython3",
   "version": "3.6.13"
  }
 },
 "nbformat": 4,
 "nbformat_minor": 5
}
